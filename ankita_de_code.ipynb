{
 "cells": [
  {
   "cell_type": "code",
   "execution_count": 5,
   "metadata": {
    "collapsed": true
   },
   "outputs": [],
   "source": [
    "#Import basic libraries like pandas and numpy for data analysis\n",
    "\n",
    "import pandas as pd\n",
    "import numpy as np"
   ]
  },
  {
   "cell_type": "code",
   "execution_count": 6,
   "metadata": {
    "collapsed": true
   },
   "outputs": [],
   "source": [
    "#Since I am implementing this code in Python3 \n",
    "# Using urllib3 to send request to file on server\n",
    "import urllib3\n",
    "from urllib.request import urlopen\n",
    "\n",
    "# we need regex for text analysis \n",
    "import re\n"
   ]
  },
  {
   "cell_type": "code",
   "execution_count": 7,
   "metadata": {
    "collapsed": true
   },
   "outputs": [],
   "source": [
    "# This code is focussed on implementing data-engineering coding challege without using \n",
    "# complex regex expressions\n",
    "# Though I have imported re in this code I wont be using this\n",
    "\n",
    "\n",
    "#Since we are not using regex I need json for handling object in file. \n",
    "import json\n",
    "\n",
    "\n",
    "#You can use either of them\n",
    "#import simplejson as json"
   ]
  },
  {
   "cell_type": "code",
   "execution_count": 8,
   "metadata": {},
   "outputs": [
    {
     "name": "stderr",
     "output_type": "stream",
     "text": [
      "C:\\ProgramData\\Anaconda3\\lib\\site-packages\\urllib3\\connectionpool.py:857: InsecureRequestWarning: Unverified HTTPS request is being made. Adding certificate verification is strongly advised. See: https://urllib3.readthedocs.io/en/latest/advanced-usage.html#ssl-warnings\n",
      "  InsecureRequestWarning)\n"
     ]
    }
   ],
   "source": [
    "\n",
    "#Data Link\n",
    "myurl='https://gist.githubusercontent.com/mrgaaron/843feea23fc14621a0b5085dc6e81e73/raw/af9bea1e9a570c300699036c862604af7a5977e4/gistfile1.txt'\n",
    "\n",
    "#Storing data for analysis purpose\n",
    "http = urllib3.PoolManager()\n",
    "response = http.request('GET', myurl)\n",
    "data = response.data.decode('utf-8')\n",
    "\n"
   ]
  },
  {
   "cell_type": "code",
   "execution_count": 9,
   "metadata": {},
   "outputs": [],
   "source": [
    "# Without using Regex\n",
    "#-------------------------------Focus of this code is to write simple python code to\n",
    "#------------------solve complex data analysis problem without using regex library in \n",
    "#                           python-----\n",
    "\n",
    "\n",
    "#print(data)"
   ]
  },
  {
   "cell_type": "code",
   "execution_count": 10,
   "metadata": {
    "collapsed": true
   },
   "outputs": [],
   "source": [
    "#Data is clubed together so unlink every field\n",
    "data2=data.split('\\n')"
   ]
  },
  {
   "cell_type": "code",
   "execution_count": 1,
   "metadata": {},
   "outputs": [],
   "source": [
    "#data2"
   ]
  },
  {
   "cell_type": "code",
   "execution_count": 11,
   "metadata": {},
   "outputs": [],
   "source": [
    "#Create data frame with all attributes mentioned in log file provided in coding challege\n",
    "\n",
    "#First Step Create Tuples\n",
    "finaldata=[]\n",
    "\n",
    "for data in data2:\n",
    "    df=[]\n",
    "    d=json.loads(data)\n",
    "    df= (d['url'],d['timestamp'],d['sessionId'],d['experiments'],d['userId'])\n",
    "    #print(df)\n",
    "    finaldata.append(df)"
   ]
  },
  {
   "cell_type": "code",
   "execution_count": 12,
   "metadata": {},
   "outputs": [],
   "source": [
    "#Check our tuple format \n",
    "#finaldata"
   ]
  },
  {
   "cell_type": "code",
   "execution_count": 14,
   "metadata": {
    "collapsed": true
   },
   "outputs": [],
   "source": [
    "#Store it in Dataframe using pandas\n",
    "final_dataframe = pd.DataFrame(finaldata, columns= ['URL','Timestamp','Session ID', 'Experiments', 'User ID'])\n"
   ]
  },
  {
   "cell_type": "code",
   "execution_count": 15,
   "metadata": {},
   "outputs": [
    {
     "data": {
      "text/html": [
       "<div>\n",
       "<style>\n",
       "    .dataframe thead tr:only-child th {\n",
       "        text-align: right;\n",
       "    }\n",
       "\n",
       "    .dataframe thead th {\n",
       "        text-align: left;\n",
       "    }\n",
       "\n",
       "    .dataframe tbody tr th {\n",
       "        vertical-align: top;\n",
       "    }\n",
       "</style>\n",
       "<table border=\"1\" class=\"dataframe\">\n",
       "  <thead>\n",
       "    <tr style=\"text-align: right;\">\n",
       "      <th></th>\n",
       "      <th>URL</th>\n",
       "      <th>Timestamp</th>\n",
       "      <th>Session ID</th>\n",
       "      <th>Experiments</th>\n",
       "      <th>User ID</th>\n",
       "    </tr>\n",
       "  </thead>\n",
       "  <tbody>\n",
       "    <tr>\n",
       "      <th>0</th>\n",
       "      <td>/orchestra</td>\n",
       "      <td>2018-01-02T15:41:13.620579</td>\n",
       "      <td>6d707042-801a-41de-9406-54e46f6ae433</td>\n",
       "      <td>full-screen-ads</td>\n",
       "      <td>4</td>\n",
       "    </tr>\n",
       "    <tr>\n",
       "      <th>1</th>\n",
       "      <td>/marketplace</td>\n",
       "      <td>2018-01-02T15:41:17.620579</td>\n",
       "      <td>ecfb723c-b423-4644-ace8-a3d518c2af50</td>\n",
       "      <td>full-screen-ads</td>\n",
       "      <td>8</td>\n",
       "    </tr>\n",
       "    <tr>\n",
       "      <th>2</th>\n",
       "      <td>/orchestra</td>\n",
       "      <td>2018-01-02T15:41:19.620579</td>\n",
       "      <td>b1c15529-f3f0-461c-b2dd-b60fb02223c3</td>\n",
       "      <td>full-screen-ads</td>\n",
       "      <td>2</td>\n",
       "    </tr>\n",
       "    <tr>\n",
       "      <th>3</th>\n",
       "      <td>/pedals</td>\n",
       "      <td>2018-01-02T15:41:22.620579</td>\n",
       "      <td>cbb2aa48-24d9-4bc3-bd86-75072f75096d</td>\n",
       "      <td>no-ads</td>\n",
       "      <td>3</td>\n",
       "    </tr>\n",
       "    <tr>\n",
       "      <th>4</th>\n",
       "      <td>/bass-guitars</td>\n",
       "      <td>2018-01-02T15:41:24.620579</td>\n",
       "      <td>6d707042-801a-41de-9406-54e46f6ae433</td>\n",
       "      <td>full-screen-ads</td>\n",
       "      <td>4</td>\n",
       "    </tr>\n",
       "    <tr>\n",
       "      <th>5</th>\n",
       "      <td>/pro-audio</td>\n",
       "      <td>2018-01-02T15:41:28.620579</td>\n",
       "      <td>433a06fa-6684-4566-aee2-afd97e607abd</td>\n",
       "      <td>full-screen-ads</td>\n",
       "      <td>7</td>\n",
       "    </tr>\n",
       "    <tr>\n",
       "      <th>6</th>\n",
       "      <td>/electric-guitars</td>\n",
       "      <td>2018-01-02T15:41:30.620579</td>\n",
       "      <td>43dd83db-f1cf-4d66-a7b6-d57df50a1e8b</td>\n",
       "      <td>full-screen-ads</td>\n",
       "      <td>9</td>\n",
       "    </tr>\n",
       "  </tbody>\n",
       "</table>\n",
       "</div>"
      ],
      "text/plain": [
       "                 URL                   Timestamp  \\\n",
       "0         /orchestra  2018-01-02T15:41:13.620579   \n",
       "1       /marketplace  2018-01-02T15:41:17.620579   \n",
       "2         /orchestra  2018-01-02T15:41:19.620579   \n",
       "3            /pedals  2018-01-02T15:41:22.620579   \n",
       "4      /bass-guitars  2018-01-02T15:41:24.620579   \n",
       "5         /pro-audio  2018-01-02T15:41:28.620579   \n",
       "6  /electric-guitars  2018-01-02T15:41:30.620579   \n",
       "\n",
       "                             Session ID      Experiments  User ID  \n",
       "0  6d707042-801a-41de-9406-54e46f6ae433  full-screen-ads        4  \n",
       "1  ecfb723c-b423-4644-ace8-a3d518c2af50  full-screen-ads        8  \n",
       "2  b1c15529-f3f0-461c-b2dd-b60fb02223c3  full-screen-ads        2  \n",
       "3  cbb2aa48-24d9-4bc3-bd86-75072f75096d           no-ads        3  \n",
       "4  6d707042-801a-41de-9406-54e46f6ae433  full-screen-ads        4  \n",
       "5  433a06fa-6684-4566-aee2-afd97e607abd  full-screen-ads        7  \n",
       "6  43dd83db-f1cf-4d66-a7b6-d57df50a1e8b  full-screen-ads        9  "
      ]
     },
     "execution_count": 15,
     "metadata": {},
     "output_type": "execute_result"
    }
   ],
   "source": [
    "final_dataframe.head(7)"
   ]
  },
  {
   "cell_type": "code",
   "execution_count": 16,
   "metadata": {},
   "outputs": [
    {
     "data": {
      "text/plain": [
       "/orchestra       1282\n",
       "/pro-audio       1267\n",
       "/pedals          1264\n",
       "/bass-guitars    1261\n",
       "/marketplace     1239\n",
       "Name: URL, dtype: int64"
      ]
     },
     "execution_count": 16,
     "metadata": {},
     "output_type": "execute_result"
    }
   ],
   "source": [
    "#Problem 1: Find out top 5 most viewed websites woth their count (time they appear in data)\n",
    "\n",
    "top5url=final_dataframe['URL'].value_counts().nlargest(5)\n",
    "\n",
    "top5url"
   ]
  },
  {
   "cell_type": "code",
   "execution_count": 17,
   "metadata": {
    "collapsed": true
   },
   "outputs": [],
   "source": [
    "#Since our data column formate is not in datetime format\n",
    "#We have to convert it to datetime object to perform arithmetics\n",
    "import datetime\n",
    "\n",
    "final_dataframe['Time']=pd.to_datetime(final_dataframe['Timestamp'])\n",
    "\n"
   ]
  },
  {
   "cell_type": "code",
   "execution_count": 18,
   "metadata": {},
   "outputs": [
    {
     "data": {
      "text/html": [
       "<div>\n",
       "<style>\n",
       "    .dataframe thead tr:only-child th {\n",
       "        text-align: right;\n",
       "    }\n",
       "\n",
       "    .dataframe thead th {\n",
       "        text-align: left;\n",
       "    }\n",
       "\n",
       "    .dataframe tbody tr th {\n",
       "        vertical-align: top;\n",
       "    }\n",
       "</style>\n",
       "<table border=\"1\" class=\"dataframe\">\n",
       "  <thead>\n",
       "    <tr style=\"text-align: right;\">\n",
       "      <th></th>\n",
       "      <th>URL</th>\n",
       "      <th>Timestamp</th>\n",
       "      <th>Session ID</th>\n",
       "      <th>Experiments</th>\n",
       "      <th>User ID</th>\n",
       "      <th>Time</th>\n",
       "    </tr>\n",
       "  </thead>\n",
       "  <tbody>\n",
       "    <tr>\n",
       "      <th>0</th>\n",
       "      <td>/orchestra</td>\n",
       "      <td>2018-01-02T15:41:13.620579</td>\n",
       "      <td>6d707042-801a-41de-9406-54e46f6ae433</td>\n",
       "      <td>full-screen-ads</td>\n",
       "      <td>4</td>\n",
       "      <td>2018-01-02 15:41:13.620579</td>\n",
       "    </tr>\n",
       "    <tr>\n",
       "      <th>1</th>\n",
       "      <td>/marketplace</td>\n",
       "      <td>2018-01-02T15:41:17.620579</td>\n",
       "      <td>ecfb723c-b423-4644-ace8-a3d518c2af50</td>\n",
       "      <td>full-screen-ads</td>\n",
       "      <td>8</td>\n",
       "      <td>2018-01-02 15:41:17.620579</td>\n",
       "    </tr>\n",
       "    <tr>\n",
       "      <th>2</th>\n",
       "      <td>/orchestra</td>\n",
       "      <td>2018-01-02T15:41:19.620579</td>\n",
       "      <td>b1c15529-f3f0-461c-b2dd-b60fb02223c3</td>\n",
       "      <td>full-screen-ads</td>\n",
       "      <td>2</td>\n",
       "      <td>2018-01-02 15:41:19.620579</td>\n",
       "    </tr>\n",
       "    <tr>\n",
       "      <th>3</th>\n",
       "      <td>/pedals</td>\n",
       "      <td>2018-01-02T15:41:22.620579</td>\n",
       "      <td>cbb2aa48-24d9-4bc3-bd86-75072f75096d</td>\n",
       "      <td>no-ads</td>\n",
       "      <td>3</td>\n",
       "      <td>2018-01-02 15:41:22.620579</td>\n",
       "    </tr>\n",
       "    <tr>\n",
       "      <th>4</th>\n",
       "      <td>/bass-guitars</td>\n",
       "      <td>2018-01-02T15:41:24.620579</td>\n",
       "      <td>6d707042-801a-41de-9406-54e46f6ae433</td>\n",
       "      <td>full-screen-ads</td>\n",
       "      <td>4</td>\n",
       "      <td>2018-01-02 15:41:24.620579</td>\n",
       "    </tr>\n",
       "    <tr>\n",
       "      <th>5</th>\n",
       "      <td>/pro-audio</td>\n",
       "      <td>2018-01-02T15:41:28.620579</td>\n",
       "      <td>433a06fa-6684-4566-aee2-afd97e607abd</td>\n",
       "      <td>full-screen-ads</td>\n",
       "      <td>7</td>\n",
       "      <td>2018-01-02 15:41:28.620579</td>\n",
       "    </tr>\n",
       "    <tr>\n",
       "      <th>6</th>\n",
       "      <td>/electric-guitars</td>\n",
       "      <td>2018-01-02T15:41:30.620579</td>\n",
       "      <td>43dd83db-f1cf-4d66-a7b6-d57df50a1e8b</td>\n",
       "      <td>full-screen-ads</td>\n",
       "      <td>9</td>\n",
       "      <td>2018-01-02 15:41:30.620579</td>\n",
       "    </tr>\n",
       "    <tr>\n",
       "      <th>7</th>\n",
       "      <td>/pedals</td>\n",
       "      <td>2018-01-02T15:41:33.620579</td>\n",
       "      <td>43dd83db-f1cf-4d66-a7b6-d57df50a1e8b</td>\n",
       "      <td>full-screen-ads</td>\n",
       "      <td>9</td>\n",
       "      <td>2018-01-02 15:41:33.620579</td>\n",
       "    </tr>\n",
       "    <tr>\n",
       "      <th>8</th>\n",
       "      <td>/home audio</td>\n",
       "      <td>2018-01-02T15:41:34.620579</td>\n",
       "      <td>eeda07de-98db-46c0-beeb-ef86b93494d4</td>\n",
       "      <td>full-screen-ads</td>\n",
       "      <td>8</td>\n",
       "      <td>2018-01-02 15:41:34.620579</td>\n",
       "    </tr>\n",
       "    <tr>\n",
       "      <th>9</th>\n",
       "      <td>/home audio</td>\n",
       "      <td>2018-01-02T15:41:37.620579</td>\n",
       "      <td>53ccb5f0-b473-4e60-99b4-5def42eccae7</td>\n",
       "      <td>no-ads</td>\n",
       "      <td>6</td>\n",
       "      <td>2018-01-02 15:41:37.620579</td>\n",
       "    </tr>\n",
       "  </tbody>\n",
       "</table>\n",
       "</div>"
      ],
      "text/plain": [
       "                 URL                   Timestamp  \\\n",
       "0         /orchestra  2018-01-02T15:41:13.620579   \n",
       "1       /marketplace  2018-01-02T15:41:17.620579   \n",
       "2         /orchestra  2018-01-02T15:41:19.620579   \n",
       "3            /pedals  2018-01-02T15:41:22.620579   \n",
       "4      /bass-guitars  2018-01-02T15:41:24.620579   \n",
       "5         /pro-audio  2018-01-02T15:41:28.620579   \n",
       "6  /electric-guitars  2018-01-02T15:41:30.620579   \n",
       "7            /pedals  2018-01-02T15:41:33.620579   \n",
       "8        /home audio  2018-01-02T15:41:34.620579   \n",
       "9        /home audio  2018-01-02T15:41:37.620579   \n",
       "\n",
       "                             Session ID      Experiments  User ID  \\\n",
       "0  6d707042-801a-41de-9406-54e46f6ae433  full-screen-ads        4   \n",
       "1  ecfb723c-b423-4644-ace8-a3d518c2af50  full-screen-ads        8   \n",
       "2  b1c15529-f3f0-461c-b2dd-b60fb02223c3  full-screen-ads        2   \n",
       "3  cbb2aa48-24d9-4bc3-bd86-75072f75096d           no-ads        3   \n",
       "4  6d707042-801a-41de-9406-54e46f6ae433  full-screen-ads        4   \n",
       "5  433a06fa-6684-4566-aee2-afd97e607abd  full-screen-ads        7   \n",
       "6  43dd83db-f1cf-4d66-a7b6-d57df50a1e8b  full-screen-ads        9   \n",
       "7  43dd83db-f1cf-4d66-a7b6-d57df50a1e8b  full-screen-ads        9   \n",
       "8  eeda07de-98db-46c0-beeb-ef86b93494d4  full-screen-ads        8   \n",
       "9  53ccb5f0-b473-4e60-99b4-5def42eccae7           no-ads        6   \n",
       "\n",
       "                        Time  \n",
       "0 2018-01-02 15:41:13.620579  \n",
       "1 2018-01-02 15:41:17.620579  \n",
       "2 2018-01-02 15:41:19.620579  \n",
       "3 2018-01-02 15:41:22.620579  \n",
       "4 2018-01-02 15:41:24.620579  \n",
       "5 2018-01-02 15:41:28.620579  \n",
       "6 2018-01-02 15:41:30.620579  \n",
       "7 2018-01-02 15:41:33.620579  \n",
       "8 2018-01-02 15:41:34.620579  \n",
       "9 2018-01-02 15:41:37.620579  "
      ]
     },
     "execution_count": 18,
     "metadata": {},
     "output_type": "execute_result"
    }
   ],
   "source": [
    "final_dataframe.head(10)"
   ]
  },
  {
   "cell_type": "code",
   "execution_count": 321,
   "metadata": {
    "collapsed": true
   },
   "outputs": [],
   "source": [
    "#Create Column which would store calculated session time in seconds\n",
    "\n",
    "fdata= final_dataframe['Time']\n",
    "time=[]\n",
    "\n",
    "for data in fdata:\n",
    "    date=data.time()\n",
    "    tsum=data.hour * 3600 + data.minute* 60 + data.second\n",
    "    time.append(tsum)\n",
    "\n",
    "#Store your answer\n",
    "final_dataframe['Time in sec']=time"
   ]
  },
  {
   "cell_type": "code",
   "execution_count": 322,
   "metadata": {},
   "outputs": [
    {
     "data": {
      "text/plain": [
       "{'Session Stats': {'max': 81413000,\n",
       "  'mean': 68947850.0,\n",
       "  'median': 68925500.0,\n",
       "  'min': 56473000},\n",
       " 'Top 5 most viewed urls': /orchestra       1282\n",
       " /pro-audio       1267\n",
       " /pedals          1264\n",
       " /bass-guitars    1261\n",
       " /marketplace     1239\n",
       " Name: URL, dtype: int64}"
      ]
     },
     "execution_count": 322,
     "metadata": {},
     "output_type": "execute_result"
    }
   ],
   "source": [
    "#Here is the final ouput for expected in coding challenge\n",
    "# dictionary contains following\n",
    "\n",
    "# top 5 most viewed websites\n",
    "#Sessions stats like average time, max time etc. in milliseconds\n",
    "\n",
    "dictf={'Top 5 most viewed urls':top5url,\n",
    "     'Session Stats': {\n",
    "         'median':final_dataframe['Time in sec'].median()*1000,\n",
    "         'mean':final_dataframe['Time in sec'].mean()*1000,\n",
    "         'max':final_dataframe['Time in sec'].max()*1000,\n",
    "         'min':final_dataframe['Time in sec'].min()*1000\n",
    "     }\n",
    "      }\n",
    "dictf"
   ]
  }
 ],
 "metadata": {
  "kernelspec": {
   "display_name": "Python 3",
   "language": "python",
   "name": "python3"
  },
  "language_info": {
   "codemirror_mode": {
    "name": "ipython",
    "version": 3
   },
   "file_extension": ".py",
   "mimetype": "text/x-python",
   "name": "python",
   "nbconvert_exporter": "python",
   "pygments_lexer": "ipython3",
   "version": "3.6.1"
  }
 },
 "nbformat": 4,
 "nbformat_minor": 2
}
